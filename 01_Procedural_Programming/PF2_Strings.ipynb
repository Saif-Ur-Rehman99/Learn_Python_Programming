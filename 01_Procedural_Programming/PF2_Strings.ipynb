{
 "cells": [
  {
   "cell_type": "code",
   "execution_count": 2,
   "id": "77b21088",
   "metadata": {},
   "outputs": [
    {
     "name": "stdout",
     "output_type": "stream",
     "text": [
      "Enter Email: saif.khan@xloopdigital.com\n",
      "saif.khan\n"
     ]
    }
   ],
   "source": [
    "# Extract user name from the email\n",
    "\n",
    "email = input(\"Enter Email: \")\n",
    "\n",
    "position = email.index('@')\n",
    "print(email[:position])"
   ]
  },
  {
   "cell_type": "code",
   "execution_count": 8,
   "id": "60afdfdc",
   "metadata": {},
   "outputs": [
    {
     "name": "stdout",
     "output_type": "stream",
     "text": [
      "What would you like to search? h\n",
      "Frequency of h is 3\n"
     ]
    }
   ],
   "source": [
    "# Count the frequency of particular character in the string\n",
    "\n",
    "string = \"Hello how are you Habib!\".lower()\n",
    "search = input(\"What would you like to search? \")\n",
    "count = 0\n",
    "for i in string:\n",
    "    if i == search:\n",
    "        count += 1\n",
    "print('Frequency of {} is {}'.format(search, count))"
   ]
  },
  {
   "cell_type": "code",
   "execution_count": 12,
   "id": "ba45c251",
   "metadata": {},
   "outputs": [
    {
     "name": "stdout",
     "output_type": "stream",
     "text": [
      "What do you want to remove? h\n",
      "Hello ow are you Habib!\n"
     ]
    }
   ],
   "source": [
    "# Remove particular character in the given string\n",
    "\n",
    "string = \"Hello how are you Habib!\"\n",
    "search = input(\"What do you want to remove? \")\n",
    "result = '' \n",
    "for i in string:\n",
    "    if i != search:\n",
    "        result = result + i\n",
    "        \n",
    "print(result)\n",
    "        "
   ]
  },
  {
   "cell_type": "code",
   "execution_count": 15,
   "id": "6eacdf41",
   "metadata": {},
   "outputs": [
    {
     "name": "stdout",
     "output_type": "stream",
     "text": [
      "Give a word: civic\n",
      "Palindrome\n"
     ]
    }
   ],
   "source": [
    "# Check If the given string is Palindrome\n",
    "\n",
    "string = input(\"Give a word: \")\n",
    "flag = True\n",
    "for i in range(0, len(string)//2):\n",
    "    if string[i] != string[len(string) -i -1]:\n",
    "        flag = False\n",
    "        print(\"Not a Palindrome\")\n",
    "        break\n",
    "\n",
    "if flag:\n",
    "    print(\"Palindrome\")"
   ]
  },
  {
   "cell_type": "code",
   "execution_count": 18,
   "id": "2ac0b89a",
   "metadata": {},
   "outputs": [
    {
     "name": "stdout",
     "output_type": "stream",
     "text": [
      "Give a sentence: This poem was written by an American poet\n",
      "8 are total words...\n"
     ]
    }
   ],
   "source": [
    "# Count the number of words in a string without using split() function\n",
    "string = input(\"Give a sentence: \")\n",
    "temp = 0\n",
    "for i in string:\n",
    "    if i == ' ':\n",
    "        temp += 1\n",
    "print(temp+1, \"are total words...\")"
   ]
  },
  {
   "cell_type": "code",
   "execution_count": 23,
   "id": "1bebd42d",
   "metadata": {},
   "outputs": [
    {
     "name": "stdout",
     "output_type": "stream",
     "text": [
      "Give a sentence: how are you laura\n",
      "How Are You Laura\n"
     ]
    }
   ],
   "source": [
    "# capitalize the first letter of each word without using title() function\n",
    "\n",
    "string = input(\"Give a sentence: \")\n",
    "l = []\n",
    "for i in string.split(\" \"):\n",
    "    l.append(i[0].upper() + i[1:].lower())\n",
    "print(\" \".join(l))\n"
   ]
  },
  {
   "cell_type": "code",
   "execution_count": null,
   "id": "0f8b0d9e",
   "metadata": {},
   "outputs": [],
   "source": []
  }
 ],
 "metadata": {
  "kernelspec": {
   "display_name": "Python 3 (ipykernel)",
   "language": "python",
   "name": "python3"
  },
  "language_info": {
   "codemirror_mode": {
    "name": "ipython",
    "version": 3
   },
   "file_extension": ".py",
   "mimetype": "text/x-python",
   "name": "python",
   "nbconvert_exporter": "python",
   "pygments_lexer": "ipython3",
   "version": "3.10.6"
  }
 },
 "nbformat": 4,
 "nbformat_minor": 5
}
