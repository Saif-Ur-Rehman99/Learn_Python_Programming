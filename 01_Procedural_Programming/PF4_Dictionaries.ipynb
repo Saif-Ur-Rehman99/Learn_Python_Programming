{
 "cells": [
  {
   "cell_type": "code",
   "execution_count": 1,
   "id": "6b6d1902",
   "metadata": {},
   "outputs": [],
   "source": [
    "a = \"\"\"\n",
    "1. Dictionaries are the collection of keys and Values\n",
    "2. Stores value in pairs {'key':'value'}\n",
    "3. Mutable\n",
    "4. Accessing (indexing/slicing) are not allow\n",
    "5. Keys can'y be duplicated\n",
    "6. Keys can't be mutable items which measn you can't store list, sets, and dictionaries as key \n",
    "\"\"\""
   ]
  },
  {
   "cell_type": "code",
   "execution_count": 16,
   "id": "1393cf32",
   "metadata": {},
   "outputs": [
    {
     "name": "stdout",
     "output_type": "stream",
     "text": [
      "{}\n",
      "{'name': 'saif', 'age': 24, 'college': 'CAA'}\n",
      "{'name': 'sami', 2: '24'}\n",
      "{'name': 'Jeff', 'age': 35, 'favorites': {'fav_movies': ['Thor', 'IronMan2', 'Avengers'], 'fav_car': ['Toyata', 'Lamborghini']}}\n",
      "{1: 20, 2: 40, 3: 60}\n",
      "{'name': 'Sami'}\n"
     ]
    }
   ],
   "source": [
    "# Create Dictionary\n",
    "\n",
    "# empty\n",
    "d1 = {}\n",
    "print(d1)\n",
    "# 1D dictionary + (homogenous)\n",
    "d2 = {'name':'saif', 'age':24, 'college':'CAA'}\n",
    "print(d2)\n",
    "# Mixed keys (heterogenous)\n",
    "d3 = {'name':'sami', 2:'24'}\n",
    "print(d3)\n",
    "# 2D dictionary\n",
    "d4 = {'name' : 'Jeff', \n",
    "      'age': 35, \n",
    "      'favorites': {    'fav_movies': ['Thor', 'IronMan2', 'Avengers'], \n",
    "                        'fav_car': ['Toyata', 'Lamborghini']}}\n",
    "print(d4)\n",
    "# Using dict() function\n",
    "d5 = dict([[1,20],[2,40],[3,60]])\n",
    "print(d5)\n",
    "# Duplicate keys\n",
    "d6 = {'name':'Saif', 'name': 'Sami'}\n",
    "print(d6)"
   ]
  },
  {
   "cell_type": "code",
   "execution_count": 25,
   "id": "59db7c34",
   "metadata": {},
   "outputs": [
    {
     "name": "stdout",
     "output_type": "stream",
     "text": [
      "John\n",
      "22\n"
     ]
    }
   ],
   "source": [
    "# Accessing Values Single\n",
    "\n",
    "d7 = {'name':'John', 'age':22, 'college':'Bahria'}\n",
    "\n",
    "# key values\n",
    "print(d7['name'])\n",
    "# get function\n",
    "print(d7.get('age'))"
   ]
  },
  {
   "cell_type": "code",
   "execution_count": 28,
   "id": "7856db9e",
   "metadata": {},
   "outputs": [
    {
     "name": "stdout",
     "output_type": "stream",
     "text": [
      "{'name': 'Johnny', 'age': 22, 'college': 'Bahria', 'gender': 'male'}\n"
     ]
    }
   ],
   "source": [
    "# Adding key value pair\n",
    "\n",
    "d7['name'] = 'Johnny'\n",
    "d7['gender'] = 'male'\n",
    "print(d7)\n",
    "\n",
    "# 2D value\n",
    "#d7['fav']['movies'] = 'singham'"
   ]
  },
  {
   "cell_type": "code",
   "execution_count": 31,
   "id": "20b9178c",
   "metadata": {},
   "outputs": [
    {
     "name": "stdout",
     "output_type": "stream",
     "text": [
      "{'name': 'John', 'age': 22, 'college': 'Bahria'}\n",
      "{'name': 'John', 'age': 22}\n"
     ]
    }
   ],
   "source": [
    "# Remove key value pair\n",
    "d8 = {'name':'John', 'age':22, 'college':'Bahria', 'class':'IX-B'}\n",
    "\n",
    "# pop\n",
    "d8.pop('class')\n",
    "print(d8)\n",
    "\n",
    "# pop item (delete last item)\n",
    "d8.popitem()\n",
    "print(d8)\n",
    "\n",
    "# del\n",
    "# del d8['name']\n",
    "\n",
    "# clear (to make it empty)\n",
    "# d8.clear"
   ]
  },
  {
   "cell_type": "code",
   "execution_count": 33,
   "id": "581d9a61",
   "metadata": {},
   "outputs": [
    {
     "name": "stdout",
     "output_type": "stream",
     "text": [
      "True\n",
      "False\n"
     ]
    }
   ],
   "source": [
    "# Operations\n",
    "\n",
    "# d8 = {'name':'John', 'age':22, 'college':'Bahria', 'class':'IX-B'}\n",
    "\n",
    "print('name' in d8)\n",
    "print('class' in d8)"
   ]
  },
  {
   "cell_type": "code",
   "execution_count": 37,
   "id": "f7308735",
   "metadata": {},
   "outputs": [
    {
     "name": "stdout",
     "output_type": "stream",
     "text": [
      "name : Laura\n",
      "age : 20\n",
      "University : UCLA\n",
      "class : CSB-S4\n"
     ]
    }
   ],
   "source": [
    "# Loops in Dictionaries\n",
    "d9 = {'name':'Laura', 'age':20, 'University':'UCLA', 'class':'CSB-S4'}\n",
    "\n",
    "for i in d9:\n",
    "    print(\"{} : {}\".format(i,d9[i]))"
   ]
  },
  {
   "cell_type": "code",
   "execution_count": 39,
   "id": "68043202",
   "metadata": {},
   "outputs": [
    {
     "name": "stdout",
     "output_type": "stream",
     "text": [
      "name\n",
      "University\n",
      "4\n",
      "['University', 'age', 'class', 'name']\n"
     ]
    }
   ],
   "source": [
    "# Function\n",
    "\n",
    "print(max(d9))\n",
    "print(min(d9))\n",
    "print(len(d9))\n",
    "print(sorted(d9))"
   ]
  },
  {
   "cell_type": "code",
   "execution_count": 40,
   "id": "897aa7d2",
   "metadata": {},
   "outputs": [
    {
     "name": "stdout",
     "output_type": "stream",
     "text": [
      "dict_items([('name', 'Laura'), ('age', 20), ('University', 'UCLA'), ('class', 'CSB-S4')])\n",
      "dict_keys(['name', 'age', 'University', 'class'])\n",
      "dict_values(['Laura', 20, 'UCLA', 'CSB-S4'])\n"
     ]
    }
   ],
   "source": [
    "#  Items / Keys / Values\n",
    "\n",
    "print(d9.items())\n",
    "print(d9.keys())\n",
    "print(d9.values())"
   ]
  },
  {
   "cell_type": "code",
   "execution_count": 42,
   "id": "af9275ab",
   "metadata": {},
   "outputs": [],
   "source": [
    "# Dictionar Comprehensions\n",
    "\n",
    "# {key:value for vars in iterable}"
   ]
  },
  {
   "cell_type": "code",
   "execution_count": 46,
   "id": "4431fe0f",
   "metadata": {},
   "outputs": [
    {
     "data": {
      "text/plain": [
       "{1: 1, 2: 4, 3: 9, 4: 16, 5: 25, 6: 36, 7: 49, 8: 64, 9: 81, 10: 100}"
      ]
     },
     "execution_count": 46,
     "metadata": {},
     "output_type": "execute_result"
    }
   ],
   "source": [
    "# print 1st 10 numbers and their square\n",
    "{i:i**2 for i in range(1,11)}"
   ]
  },
  {
   "cell_type": "code",
   "execution_count": 45,
   "id": "ca6ff528",
   "metadata": {},
   "outputs": [
    {
     "data": {
      "text/plain": [
       "{'Lahore': 160.0, 'Karachi': 416.0, 'Islamabad': 336.0}"
      ]
     },
     "execution_count": 45,
     "metadata": {},
     "output_type": "execute_result"
    }
   ],
   "source": [
    "# convert given distance into km using existing dictionary\n",
    "dictionary = {'Lahore': 1000, 'Karachi': 2600, 'Islamabad': 2100}\n",
    "{key: values * 0.16 for (key,values) in dictionary.items()}"
   ]
  },
  {
   "cell_type": "code",
   "execution_count": 47,
   "id": "c1d391be",
   "metadata": {},
   "outputs": [
    {
     "data": {
      "text/plain": [
       "{'Sun': 22,\n",
       " 'Mon': 13.6,\n",
       " 'Tue': 17.7,\n",
       " 'Wed': 21.8,\n",
       " 'Thr': 11.4,\n",
       " 'Fri': 16.7,\n",
       " 'Sat': 15.3}"
      ]
     },
     "execution_count": 47,
     "metadata": {},
     "output_type": "execute_result"
    }
   ],
   "source": [
    "# using zip()\n",
    "days = ['Sun', 'Mon', 'Tue', 'Wed', 'Thr', 'Fri', 'Sat']\n",
    "temperature = [22, 13.6, 17.7, 21.8, 11.4, 16.7, 15.3]\n",
    "\n",
    "{i:j for (i,j) in zip(days,temperature)}"
   ]
  },
  {
   "cell_type": "code",
   "execution_count": 52,
   "id": "9adf2ceb",
   "metadata": {},
   "outputs": [
    {
     "data": {
      "text/plain": [
       "{'phone': 10, 'charger': 12}"
      ]
     },
     "execution_count": 52,
     "metadata": {},
     "output_type": "execute_result"
    }
   ],
   "source": [
    "# using if statement\n",
    "\n",
    "products = {'phone':10, 'laptop':0, 'charger':12, 'tablet':0}\n",
    "{key:value for (key,value) in products.items() if value > 0}"
   ]
  },
  {
   "cell_type": "code",
   "execution_count": 58,
   "id": "5a6d72f8",
   "metadata": {},
   "outputs": [
    {
     "data": {
      "text/plain": [
       "{2: {1: 2, 2: 4, 3: 6, 4: 8, 5: 10, 6: 12, 7: 14, 8: 16, 9: 18, 10: 20},\n",
       " 3: {1: 3, 2: 6, 3: 9, 4: 12, 5: 15, 6: 18, 7: 21, 8: 24, 9: 27, 10: 30},\n",
       " 4: {1: 4, 2: 8, 3: 12, 4: 16, 5: 20, 6: 24, 7: 28, 8: 32, 9: 36, 10: 40},\n",
       " 5: {1: 5, 2: 10, 3: 15, 4: 20, 5: 25, 6: 30, 7: 35, 8: 40, 9: 45, 10: 50}}"
      ]
     },
     "execution_count": 58,
     "metadata": {},
     "output_type": "execute_result"
    }
   ],
   "source": [
    "# nested comprehension\n",
    "'''Table = {\n",
    "    2: {1:2, 2:4, 3:6, 4:8, 5:10},\n",
    "    3: {1:3, 2:6, 3:9, 4:12, 5:15},\n",
    "    4: {1:4, 2:8, 3:12, 4:16, 5:20},\n",
    "    5: {1:5, 2:10, 3:15, 4:20, 5:25},\n",
    "}'''\n",
    "\n",
    "{i:{j: i*j for j in range(1,11)} for i in range(2,6)}"
   ]
  },
  {
   "cell_type": "code",
   "execution_count": 59,
   "id": "870e8c93",
   "metadata": {},
   "outputs": [],
   "source": [
    "#The End"
   ]
  },
  {
   "cell_type": "code",
   "execution_count": null,
   "id": "00b02a39",
   "metadata": {},
   "outputs": [],
   "source": []
  }
 ],
 "metadata": {
  "kernelspec": {
   "display_name": "Python 3 (ipykernel)",
   "language": "python",
   "name": "python3"
  },
  "language_info": {
   "codemirror_mode": {
    "name": "ipython",
    "version": 3
   },
   "file_extension": ".py",
   "mimetype": "text/x-python",
   "name": "python",
   "nbconvert_exporter": "python",
   "pygments_lexer": "ipython3",
   "version": "3.10.6"
  }
 },
 "nbformat": 4,
 "nbformat_minor": 5
}
