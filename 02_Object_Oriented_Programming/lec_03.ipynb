{
 "cells": [
  {
   "cell_type": "markdown",
   "metadata": {},
   "source": [
    "### Write OOP classes to handle the following scenarios:\n",
    "\n",
    "- A user can create and view 2D coordinates\n",
    "- A user can find out the distance between 2 coordinates\n",
    "- A user can find find the distance of a coordinate from origin\n",
    "- A user can check if a point lies on a given line\n",
    "- A user can find the distance between a given 2D point and a given line"
   ]
  },
  {
   "cell_type": "code",
   "execution_count": 1,
   "metadata": {},
   "outputs": [],
   "source": [
    "class Point:\n",
    "\n",
    "    def __init__(self, x, y):\n",
    "        self.x = x\n",
    "        self.y = y\n",
    "\n",
    "    def __str__(self):\n",
    "        return '({},{})'.format(self.x, self.y)\n",
    "    \n",
    "    def euclidean_distance(self, other):\n",
    "        return ((self.x - other.x) ** 2 + (self.y - other.y) ** 2) ** 0.5\n",
    "    \n",
    "    def distance_from_origin(self):\n",
    "        return self.euclidean_distance(Point(0,0))\n",
    "\n",
    "\n",
    "class Line:\n",
    "\n",
    "    def __init__(self, a, b, c):\n",
    "        self.a = a\n",
    "        self.b = b\n",
    "        self.c = c\n",
    "\n",
    "    def __str__(self):\n",
    "        return '{}x + {}y + {} = 0'.format(self.a, self.b, self.c)\n",
    "    \n",
    "    def point_on_line(line, point):\n",
    "        if line.a * point.x + line.b * point.y + line.c == 0:\n",
    "            return \"point lies on the line\"\n",
    "        else:\n",
    "            return \"point does not lie on the line\"\n",
    "    \n",
    "    def shortest_distance(line,point):\n",
    "        return abs(line.a * point.x + line.b * point.y + line.c)/(line.a**2 + line.b**2) ** 0.5\n"
   ]
  },
  {
   "cell_type": "code",
   "execution_count": 2,
   "metadata": {},
   "outputs": [
    {
     "name": "stdout",
     "output_type": "stream",
     "text": [
      "(2,4)\n"
     ]
    }
   ],
   "source": [
    "# A user can create and view 2D coordinates\n",
    "obj = Point(2,4)\n",
    "print(obj)"
   ]
  },
  {
   "cell_type": "code",
   "execution_count": 3,
   "metadata": {},
   "outputs": [
    {
     "name": "stdout",
     "output_type": "stream",
     "text": [
      "1.4142135623730951\n"
     ]
    }
   ],
   "source": [
    "# A user can find out the distance between 2 coordinates\n",
    "obj1 = Point(3,5)\n",
    "obj2 = Point(2,4)\n",
    "print(obj1.euclidean_distance(obj2))\n"
   ]
  },
  {
   "cell_type": "code",
   "execution_count": 4,
   "metadata": {},
   "outputs": [
    {
     "name": "stdout",
     "output_type": "stream",
     "text": [
      "1.4142135623730951\n"
     ]
    }
   ],
   "source": [
    "# A user can find find the distance of a coordinate from origin\n",
    "obj3 = Point(1,1)\n",
    "print(obj3.distance_from_origin())"
   ]
  },
  {
   "cell_type": "code",
   "execution_count": 5,
   "metadata": {},
   "outputs": [
    {
     "name": "stdout",
     "output_type": "stream",
     "text": [
      "2x + 5y + 6 = 0\n",
      "point lies on the line\n"
     ]
    }
   ],
   "source": [
    "# A user can create and view line\n",
    "obj4 = Line(2,5,6)\n",
    "print(obj4)\n",
    "\n",
    "# A user can check if a point lies on a given line\n",
    "l1 = Line(1,1,-2)\n",
    "p1 = Point(1,1)\n",
    "a = l1.point_on_line(p1)\n",
    "print(a)"
   ]
  },
  {
   "cell_type": "code",
   "execution_count": 6,
   "metadata": {},
   "outputs": [
    {
     "name": "stdout",
     "output_type": "stream",
     "text": [
      "6.363961030678928\n"
     ]
    }
   ],
   "source": [
    "# A user can find the distance between a given 2D point and a given line\n",
    "l2 = Line(1,1,-2)\n",
    "p2 = Point(1,10)\n",
    "b = l2.shortest_distance(p2)\n",
    "print(b)"
   ]
  }
 ],
 "metadata": {
  "kernelspec": {
   "display_name": "Python 3",
   "language": "python",
   "name": "python3"
  },
  "language_info": {
   "codemirror_mode": {
    "name": "ipython",
    "version": 3
   },
   "file_extension": ".py",
   "mimetype": "text/x-python",
   "name": "python",
   "nbconvert_exporter": "python",
   "pygments_lexer": "ipython3",
   "version": "3.10.6"
  },
  "orig_nbformat": 4
 },
 "nbformat": 4,
 "nbformat_minor": 2
}
