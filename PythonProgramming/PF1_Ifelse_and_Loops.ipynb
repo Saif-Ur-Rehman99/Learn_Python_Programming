{
 "cells": [
  {
   "cell_type": "code",
   "execution_count": 9,
   "id": "be7d59d8",
   "metadata": {},
   "outputs": [
    {
     "name": "stdout",
     "output_type": "stream",
     "text": [
      "Email: saif.khan@xloopdigital.com\n",
      "Password: afa\n",
      "Password is Incorrect\n",
      "Try Again: 1234root845\n"
     ]
    }
   ],
   "source": [
    "email = 'saif.khan@xloopdigital.com'\n",
    "password = '1234root945'\n",
    "\n",
    "a = input(\"Email: \")\n",
    "b = input(\"Password: \")\n",
    "\n",
    "if a == email and b == password:\n",
    "    print('Welcome!')\n",
    "elif a == email and b != password:\n",
    "    print('Password is Incorrect')\n",
    "    b = input(\"Try Again: \")\n",
    "    if b == password:\n",
    "        print(\"Welcome!\")\n",
    "    else:\n",
    "        print(\"Tum se na ho payega!\")\n",
    "else:\n",
    "    print('Incorrect Input')"
   ]
  },
  {
   "cell_type": "code",
   "execution_count": 2,
   "id": "7b81bbef",
   "metadata": {},
   "outputs": [
    {
     "name": "stdout",
     "output_type": "stream",
     "text": [
      "Your Guess: 30\n",
      "Your guess is high!\n",
      "Your Guess: 23\n",
      "Your guess is low\n",
      "Your Guess: 25\n",
      "Your guess is low\n",
      "Your Guess: 27\n",
      "You guess 27 in 4 attempts\n"
     ]
    }
   ],
   "source": [
    "import random\n",
    "num = random.randint(0,50)\n",
    "\n",
    "guess = int(input(\"Your Guess: \"))\n",
    "\n",
    "count = 1\n",
    "while guess != num:\n",
    "    if guess > num:\n",
    "        print(\"Your guess is high!\")\n",
    "    else:\n",
    "        print(\"Your guess is low\")\n",
    "    \n",
    "    guess = int(input(\"Your Guess: \"))\n",
    "    count += 1\n",
    "else:\n",
    "    print(f\"You guess {num} in {count} attempts\")\n"
   ]
  },
  {
   "cell_type": "code",
   "execution_count": 5,
   "id": "a889096a",
   "metadata": {},
   "outputs": [],
   "source": [
    "# Where do we use loop?\n",
    "\n",
    "# Flipkart website mobile data (same containers but different data)"
   ]
  },
  {
   "cell_type": "code",
   "execution_count": 4,
   "id": "2d2ba7fa",
   "metadata": {},
   "outputs": [
    {
     "name": "stdout",
     "output_type": "stream",
     "text": [
      "\n",
      "Please wait a moment while I gather a list of all available modules...\n",
      "\n",
      "IPython             attr                marshal             sspi\n",
      "PIL                 attrs               math                sspicon\n",
      "__future__          audioop             matplotlib          stack_data\n",
      "_abc                backcall            matplotlib_inline   stat\n",
      "_aix_support        base64              mimetypes           statistics\n",
      "_argon2_cffi_bindings bdb                 mistune             statsmodels\n",
      "_ast                binascii            mmap                string\n",
      "_asyncio            binhex              mmapfile            stringprep\n",
      "_asyncio_d          bisect              mmsystem            struct\n",
      "_bisect             bleach              modulefinder        subprocess\n",
      "_blake2             bs4                 mplfinance          sunau\n",
      "_bootsubprocess     builtins            msilib              symtable\n",
      "_bz2                bz2                 msvcrt              sys\n",
      "_bz2_d              cProfile            multiprocessing     sysconfig\n",
      "_cffi_backend       cachetools          multitasking        tabnanny\n",
      "_codecs             calendar            mysql               tarfile\n",
      "_codecs_cn          certifi             mysqlx              telnetlib\n",
      "_codecs_hk          cffi                nbclient            tempfile\n",
      "_codecs_iso2022     cgi                 nbconvert           tensorboard\n",
      "_codecs_jp          cgitb               nbformat            tensorboard_data_server\n",
      "_codecs_kr          charset_normalizer  nest_asyncio        tensorboard_plugin_wit\n",
      "_codecs_tw          chunk               netbios             tensorflow\n",
      "_collections        clang               netrc               tensorflow_estimator\n",
      "_collections_abc    cmath               nntplib             tensorflow_io_gcs_filesystem\n",
      "_compat_pickle      cmd                 notebook            termcolor\n",
      "_compression        code                nt                  terminado\n",
      "_contextvars        codecs              ntpath              test\n",
      "_csv                codeop              ntsecuritycon       textwrap\n",
      "_ctypes             collections         nturl2path          this\n",
      "_ctypes_d           colorama            numbers             threading\n",
      "_ctypes_test        colorsys            numpy               threadpoolctl\n",
      "_ctypes_test_d      commctrl            oauthlib            time\n",
      "_datetime           compileall          odbc                timeit\n",
      "_decimal            concurrent          opcode              timer\n",
      "_decimal_d          configparser        openpyxl            tinycss2\n",
      "_distutils_hack     contextlib          operator            tkinter\n",
      "_elementtree        contextvars         opt_einsum          token\n",
      "_elementtree_d      copy                optparse            tokenize\n",
      "_functools          copyreg             os                  tornado\n",
      "_hashlib            crypt               packaging           tqdm\n",
      "_hashlib_d          csv                 pandas              trace\n",
      "_heapq              ctypes              pandas_datareader   traceback\n",
      "_imp                curses              pandocfilters       tracemalloc\n",
      "_io                 cycler              parso               traitlets\n",
      "_json               dataclasses         pasta               tty\n",
      "_locale             datetime            pathlib             turtle\n",
      "_lsprof             dateutil            patsy               turtledemo\n",
      "_lzma               dbi                 pdb                 types\n",
      "_lzma_d             dbm                 perfmon             typing\n",
      "_markupbase         dde                 pickle              typing_extensions\n",
      "_md5                debugpy             pickleshare         tzdata\n",
      "_msi                decimal             pickletools         unicodedata\n",
      "_msi_d              decorator           pip                 unicodedata_d\n",
      "_multibytecodec     defusedxml          pipes               unittest\n",
      "_multiprocessing    difflib             pkg_resources       urllib\n",
      "_multiprocessing_d  dis                 pkgutil             urllib3\n",
      "_mysql_connector    distutils           platform            uu\n",
      "_mysqlxpb           django              plistlib            uuid\n",
      "_opcode             doctest             ply                 venv\n",
      "_operator           email               poplib              warnings\n",
      "_osx_support        encodings           posixpath           wave\n",
      "_overlapped         ensurepip           pprint              wcwidth\n",
      "_overlapped_d       entrypoints         profile             weakref\n",
      "_pickle             enum                prometheus_client   webbrowser\n",
      "_py_abc             errno               prompt_toolkit      webencodings\n",
      "_pydecimal          et_xmlfile          property_cached     werkzeug\n",
      "_pyio               executing           pstats              wheel\n",
      "_pyrsistent_version fastjsonschema      psutil              widgetsnbextension\n",
      "_queue              faulthandler        pty                 win2kras\n",
      "_queue_d            filecmp             pure_eval           win32api\n",
      "_random             fileinput           pvectorc            win32clipboard\n",
      "_sha1               flatbuffers         py_compile          win32com\n",
      "_sha256             fnmatch             pyasn1              win32con\n",
      "_sha3               fontTools           pyasn1_modules      win32console\n",
      "_sha512             fractions           pybase64            win32cred\n",
      "_signal             ftplib              pyclbr              win32crypt\n",
      "_sitebuiltins       functools           pycparser           win32cryptcon\n",
      "_socket             gast                pydoc               win32event\n",
      "_socket_d           gc                  pydoc_data          win32evtlog\n",
      "_sqlite3            genericpath         pyexpat             win32evtlogutil\n",
      "_sqlite3_d          getopt              pyexpat_d           win32file\n",
      "_sre                getpass             pygments            win32gui\n",
      "_ssl                gettext             pylab               win32gui_struct\n",
      "_ssl_d              glob                pyparsing           win32help\n",
      "_stat               google_auth_oauthlib pyrsistent          win32inet\n",
      "_statistics         graphlib            pythoncom           win32inetcon\n",
      "_string             grpc                pytz                win32job\n",
      "_strptime           gzip                pywin               win32lz\n",
      "_struct             h5py                pywin32_bootstrap   win32net\n",
      "_symtable           hashlib             pywin32_postinstall win32netcon\n",
      "_testbuffer         heapq               pywin32_testall     win32pdh\n",
      "_testbuffer_d       hmac                pywin32_testutil    win32pdhquery\n",
      "_testcapi           hmmlearn            pywintypes          win32pdhutil\n",
      "_testcapi_d         html                qtconsole           win32pipe\n",
      "_testconsole        http                qtpy                win32print\n",
      "_testconsole_d      idlelib             queue               win32process\n",
      "_testimportmultiple idna                quopri              win32profile\n",
      "_testimportmultiple_d imaplib             random              win32ras\n",
      "_testinternalcapi   imghdr              rasutil             win32rcparser\n",
      "_testinternalcapi_d imp                 re                  win32security\n",
      "_testmultiphase     importlib           regcheck            win32service\n",
      "_testmultiphase_d   inspect             regutil             win32serviceutil\n",
      "_thread             io                  reprlib             win32timezone\n",
      "_threading_local    ipaddress           requests            win32trace\n",
      "_tkinter            ipykernel           requests_oauthlib   win32traceutil\n",
      "_tkinter_d          ipykernel_launcher  rlcompleter         win32transaction\n",
      "_tracemalloc        ipython_genutils    rsa                 win32ts\n",
      "_uuid               ipywidgets          runpy               win32ui\n",
      "_uuid_d             isapi               sched               win32uiole\n",
      "_warnings           itertools           scipy               win32verstamp\n",
      "_weakref            jedi                seaborn             win32wnet\n",
      "_weakrefset         jinja2              secrets             winerror\n",
      "_win32sysloader     joblib              select              winioctlcon\n",
      "_winapi             json                select_d            winnt\n",
      "_winxptheme         jsonschema          selectors           winperf\n"
     ]
    },
    {
     "name": "stdout",
     "output_type": "stream",
     "text": [
      "_xxsubinterpreters  jupyter             send2trash          winpty\n",
      "_zoneinfo           jupyter_client      servicemanager      winreg\n",
      "_zoneinfo_d         jupyter_console     setuptools          winsound\n",
      "abc                 jupyter_core        shelve              winsound_d\n",
      "absl                jupyterlab_pygments shlex               winxpgui\n",
      "adodbapi            jupyterlab_widgets  shutil              winxptheme\n",
      "afxres              jupyterthemes       signal              wrapt\n",
      "aifc                keras               site                wsgiref\n",
      "antigravity         keras_preprocessing six                 xdrlib\n",
      "appdirs             keyword             sklearn             xml\n",
      "arch                kiwisolver          smtpd               xmlrpc\n",
      "argon2              lesscpy             smtplib             xxsubtype\n",
      "argparse            lib2to3             sndhdr              yfinance\n",
      "array               linecache           socket              zipapp\n",
      "asgiref             locale              socketserver        zipfile\n",
      "ast                 logging             soupsieve           zipimport\n",
      "asttokens           lxml                sqlite3             zlib\n",
      "astunparse          lzma                sqlparse            zmq\n",
      "asynchat            mailbox             sre_compile         zoneinfo\n",
      "asyncio             mailcap             sre_constants       \n",
      "asyncore            markdown            sre_parse           \n",
      "atexit              markupsafe          ssl                 \n",
      "\n",
      "Enter any module name to get more help.  Or, type \"modules spam\" to search\n",
      "for modules whose name or summary contain the string \"spam\".\n",
      "\n"
     ]
    }
   ],
   "source": [
    "# Available Modules\n",
    "help('modules')"
   ]
  },
  {
   "cell_type": "code",
   "execution_count": 13,
   "id": "946abfd5",
   "metadata": {},
   "outputs": [
    {
     "name": "stdout",
     "output_type": "stream",
     "text": [
      "10 9 8 7 6 5 4 3 2 1 "
     ]
    }
   ],
   "source": [
    "for i in range(10,0,-1):\n",
    "    print(i, end=' ')"
   ]
  },
  {
   "cell_type": "code",
   "execution_count": 23,
   "id": "8930c461",
   "metadata": {},
   "outputs": [
    {
     "name": "stdout",
     "output_type": "stream",
     "text": [
      ">>> Number of Rows: 5\n",
      "*\n",
      "**\n",
      "***\n",
      "****\n",
      "*****\n"
     ]
    }
   ],
   "source": [
    "n = int(input(\">>> Number of Rows: \"))\n",
    "for i in range(1, n+1):\n",
    "    for j in range(1, i+1):\n",
    "        print('*', end=\"\")\n",
    "    print()\n",
    "    "
   ]
  },
  {
   "cell_type": "code",
   "execution_count": 27,
   "id": "e4bf34d3",
   "metadata": {},
   "outputs": [
    {
     "name": "stdout",
     "output_type": "stream",
     "text": [
      ">>> Number of Rows: 5\n",
      "1\n",
      "121\n",
      "12321\n",
      "1234321\n",
      "123454321\n"
     ]
    }
   ],
   "source": [
    "n = int(input(\">>> Number of Rows: \"))\n",
    "for i in range(1, n+1):\n",
    "    for j in range(1, i+1):\n",
    "        print(j, end=\"\")\n",
    "    for k in range(i-1, 0,-1):\n",
    "        print(k,end='')\n",
    "    print()"
   ]
  },
  {
   "cell_type": "code",
   "execution_count": 28,
   "id": "c61b2288",
   "metadata": {},
   "outputs": [],
   "source": [
    "# real life example of break?\n",
    "\n",
    "# Linear searching in database (person record)"
   ]
  },
  {
   "cell_type": "code",
   "execution_count": 31,
   "id": "a6a5f0d8",
   "metadata": {},
   "outputs": [
    {
     "name": "stdout",
     "output_type": "stream",
     "text": [
      "Lower range: 7\n",
      "Upper range: 13\n",
      "7\n",
      "11\n",
      "13\n"
     ]
    }
   ],
   "source": [
    "# Prime number according to the diving range\n",
    "\n",
    "lower_range = int(input(\"Lower range: \"))\n",
    "upper_range = int(input(\"Upper range: \"))\n",
    "\n",
    "for i in range(lower_range, upper_range+1):\n",
    "    for j in range(2, i):\n",
    "        if i % j == 0:\n",
    "            break\n",
    "    else:\n",
    "        print(i)"
   ]
  },
  {
   "cell_type": "code",
   "execution_count": 32,
   "id": "2a5d598b",
   "metadata": {},
   "outputs": [],
   "source": [
    "# real life example of Continue?\n",
    "\n",
    "# Ecommerce Product ko skip krna ho (jinka stock 0 hai)"
   ]
  },
  {
   "cell_type": "code",
   "execution_count": null,
   "id": "475f6d77",
   "metadata": {},
   "outputs": [],
   "source": []
  }
 ],
 "metadata": {
  "kernelspec": {
   "display_name": "Python 3 (ipykernel)",
   "language": "python",
   "name": "python3"
  },
  "language_info": {
   "codemirror_mode": {
    "name": "ipython",
    "version": 3
   },
   "file_extension": ".py",
   "mimetype": "text/x-python",
   "name": "python",
   "nbconvert_exporter": "python",
   "pygments_lexer": "ipython3",
   "version": "3.10.6"
  }
 },
 "nbformat": 4,
 "nbformat_minor": 5
}
