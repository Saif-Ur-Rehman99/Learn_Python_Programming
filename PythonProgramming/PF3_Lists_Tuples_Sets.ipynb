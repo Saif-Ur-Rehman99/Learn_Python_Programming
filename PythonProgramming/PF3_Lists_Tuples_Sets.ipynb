{
 "cells": [
  {
   "cell_type": "code",
   "execution_count": 1,
   "id": "6cd6f038",
   "metadata": {},
   "outputs": [],
   "source": [
    "# two ways to travers a list\n",
    "\n",
    "# 1. itemwise\n",
    "# 2. indexwise"
   ]
  },
  {
   "cell_type": "code",
   "execution_count": 2,
   "id": "07c72128",
   "metadata": {},
   "outputs": [
    {
     "name": "stdout",
     "output_type": "stream",
     "text": [
      "10\n",
      "20\n",
      "30\n",
      "40\n",
      "50\n"
     ]
    }
   ],
   "source": [
    "# itemwise\n",
    "L = [10, 20, 30, 40, 50]\n",
    "\n",
    "for i in L:\n",
    "    print(i)"
   ]
  },
  {
   "cell_type": "code",
   "execution_count": 3,
   "id": "ee335c2a",
   "metadata": {},
   "outputs": [
    {
     "name": "stdout",
     "output_type": "stream",
     "text": [
      "0\n",
      "1\n",
      "2\n",
      "3\n",
      "4\n"
     ]
    }
   ],
   "source": [
    "# indexwise\n",
    "L = [10, 20, 30, 40, 50]\n",
    "\n",
    "for i in range(0,len(L)):\n",
    "    print(i)"
   ]
  },
  {
   "cell_type": "code",
   "execution_count": 4,
   "id": "669b55d9",
   "metadata": {},
   "outputs": [
    {
     "name": "stdout",
     "output_type": "stream",
     "text": [
      "10\n",
      "20\n",
      "30\n",
      "40\n",
      "50\n"
     ]
    }
   ],
   "source": [
    "# indexwise but print list items\n",
    "L = [10, 20, 30, 40, 50]\n",
    "\n",
    "for i in range(0,len(L)):\n",
    "    print(L[i])"
   ]
  },
  {
   "cell_type": "code",
   "execution_count": 5,
   "id": "6cbc8771",
   "metadata": {},
   "outputs": [
    {
     "data": {
      "text/plain": [
       "[3, 6, 9, 12, 15]"
      ]
     },
     "execution_count": 5,
     "metadata": {},
     "output_type": "execute_result"
    }
   ],
   "source": [
    "# ZIP Function\n",
    "\n",
    "l1 = [1,2,3,4,5]\n",
    "l2 = [2,4,6,8,10]\n",
    "\n",
    "# zip returns tuple\n",
    "# list make them list []\n",
    "\n",
    "#list(zip(l1,l2))\n",
    "\n",
    "[i+j for i,j in zip(l1,l2)]"
   ]
  },
  {
   "cell_type": "code",
   "execution_count": 6,
   "id": "f613a2f1",
   "metadata": {},
   "outputs": [],
   "source": [
    "# newlist = [expression for item in iterable if condition == True]"
   ]
  },
  {
   "cell_type": "code",
   "execution_count": 7,
   "id": "c309877a",
   "metadata": {},
   "outputs": [
    {
     "data": {
      "text/plain": [
       "[1, 2, 3, 4, 5, 6, 7, 8, 9, 10]"
      ]
     },
     "execution_count": 7,
     "metadata": {},
     "output_type": "execute_result"
    }
   ],
   "source": [
    "# Add 1 to 10 numbers to a list\n",
    "[i for i in range(1,11)]"
   ]
  },
  {
   "cell_type": "code",
   "execution_count": 8,
   "id": "69f88749",
   "metadata": {},
   "outputs": [
    {
     "data": {
      "text/plain": [
       "[-8, -16, -24, -32]"
      ]
     },
     "execution_count": 8,
     "metadata": {},
     "output_type": "execute_result"
    }
   ],
   "source": [
    "# Scalar multiplication on a vector\n",
    "vector = [2,4,6,8]\n",
    "scalar = -4\n",
    "[scalar * i for i in vector]"
   ]
  },
  {
   "cell_type": "code",
   "execution_count": 9,
   "id": "4e2470b7",
   "metadata": {},
   "outputs": [
    {
     "data": {
      "text/plain": [
       "[1, 25, 9, 4, 36]"
      ]
     },
     "execution_count": 9,
     "metadata": {},
     "output_type": "execute_result"
    }
   ],
   "source": [
    "# Add squares\n",
    "sq = [1,5,3,2,6]\n",
    "[i**2 for i in sq]"
   ]
  },
  {
   "cell_type": "code",
   "execution_count": 10,
   "id": "a5f85288",
   "metadata": {},
   "outputs": [
    {
     "data": {
      "text/plain": [
       "[5, 10, 15, 20, 25, 30, 35, 40, 45, 50]"
      ]
     },
     "execution_count": 10,
     "metadata": {},
     "output_type": "execute_result"
    }
   ],
   "source": [
    "# print all numbers in a range of 1 to 50 which are divisible by 5\n",
    "[i for i in range(1,51) if i % 5 == 0]"
   ]
  },
  {
   "cell_type": "code",
   "execution_count": 11,
   "id": "408e8b5c",
   "metadata": {},
   "outputs": [
    {
     "data": {
      "text/plain": [
       "['php', 'perl', 'python']"
      ]
     },
     "execution_count": 11,
     "metadata": {},
     "output_type": "execute_result"
    }
   ],
   "source": [
    "# find languages which starts with p\n",
    "languages = ['php', 'c', 'perl', 'swift', 'java', 'python', 'ruby', 'scala', 'javascript']\n",
    "[i for i in languages if i.startswith('p')]"
   ]
  },
  {
   "cell_type": "code",
   "execution_count": 12,
   "id": "0bdf8cfa",
   "metadata": {},
   "outputs": [
    {
     "data": {
      "text/plain": [
       "['apple']"
      ]
     },
     "execution_count": 12,
     "metadata": {},
     "output_type": "execute_result"
    }
   ],
   "source": [
    "# Nested if with nested Comprehension\n",
    "basket = ['apple', 'banana', 'grapes', 'mango', 'cherry']\n",
    "fruits = ['apple', 'kiwi', 'cherry', 'custardapple', 'banana']\n",
    "\n",
    "[i for i in fruits if i in basket if i.startswith('a')]"
   ]
  },
  {
   "cell_type": "code",
   "execution_count": 13,
   "id": "98bc38c4",
   "metadata": {},
   "outputs": [
    {
     "data": {
      "text/plain": [
       "[[1, 2, 3], [2, 4, 6], [3, 6, 9]]"
      ]
     },
     "execution_count": 13,
     "metadata": {},
     "output_type": "execute_result"
    }
   ],
   "source": [
    "# print (3 x 3) matrix\n",
    "\n",
    "[[i*j for i in range(1,4)] for j in range(1,4)]  "
   ]
  },
  {
   "cell_type": "code",
   "execution_count": 14,
   "id": "27a7e7b5",
   "metadata": {},
   "outputs": [
    {
     "data": {
      "text/plain": [
       "[2, 4, 6, 8, 4, 8, 12, 16, 6, 12, 18, 24, 8, 16, 24, 32]"
      ]
     },
     "execution_count": 14,
     "metadata": {},
     "output_type": "execute_result"
    }
   ],
   "source": [
    "# cartesian product\n",
    "\n",
    "l1 = [1,2,3,4]\n",
    "l2 = [2,4,6,8]\n",
    "\n",
    "[i*j for i in l1 for j in l2]"
   ]
  },
  {
   "cell_type": "code",
   "execution_count": 15,
   "id": "c281486b",
   "metadata": {},
   "outputs": [],
   "source": [
    "#"
   ]
  },
  {
   "cell_type": "code",
   "execution_count": 16,
   "id": "826b4aad",
   "metadata": {},
   "outputs": [],
   "source": [
    "# Tuples\n",
    "\n",
    "# 1. Tuples are same as list but immutable\n",
    "# 2. fatser than list (because immutables)\n",
    "# 3. stores little bit less memory than list (because immutables)\n",
    "# 4. use comma when create tuple like this ... (\"saif\",)"
   ]
  },
  {
   "cell_type": "code",
   "execution_count": 17,
   "id": "b34885eb",
   "metadata": {},
   "outputs": [],
   "source": [
    "# Set\n",
    "\n",
    "# set is unordered\n",
    "# sets are mutable\n",
    "# No duplicates are allowed\n",
    "# Can't contain mutable datatypes"
   ]
  },
  {
   "cell_type": "code",
   "execution_count": 18,
   "id": "90d53eb5",
   "metadata": {},
   "outputs": [],
   "source": [
    "# Creation of set\n",
    "\n",
    "# empty\n",
    "set() # no s={} because it will create empty dictionary\n",
    "# 1d and 2d\n",
    "s1 = {1,2,3}\n",
    "# homo and hetro (order is because of hashing)\n",
    "s2 = {1, 2.5, (2,5), 'hello', True}\n",
    "# can't have mutable items\n",
    "\n",
    "# Accessing are not allowed"
   ]
  },
  {
   "cell_type": "code",
   "execution_count": 19,
   "id": "8371db23",
   "metadata": {},
   "outputs": [
    {
     "name": "stdout",
     "output_type": "stream",
     "text": [
      "True\n"
     ]
    }
   ],
   "source": [
    "a = {1,2,3}\n",
    "b = {3,2,1}\n",
    "\n",
    "print(a == b)\n",
    "    "
   ]
  },
  {
   "cell_type": "code",
   "execution_count": 20,
   "id": "e7b09ab1",
   "metadata": {},
   "outputs": [
    {
     "data": {
      "text/plain": [
       "{1, 2, 3, 4, 5, 6, 7}"
      ]
     },
     "execution_count": 20,
     "metadata": {},
     "output_type": "execute_result"
    }
   ],
   "source": [
    "c = {2,4,5,7}\n",
    "c.update([1,3,6])\n",
    "c"
   ]
  },
  {
   "cell_type": "code",
   "execution_count": 21,
   "id": "d721665b",
   "metadata": {},
   "outputs": [
    {
     "data": {
      "text/plain": [
       "{1, 2, 3, 4, 5, 7}"
      ]
     },
     "execution_count": 21,
     "metadata": {},
     "output_type": "execute_result"
    }
   ],
   "source": [
    "c.discard(6)  # -- if item is not present doesn't give error\n",
    "# c.remove()    -- if item is not present give error\n",
    "c"
   ]
  },
  {
   "cell_type": "code",
   "execution_count": 22,
   "id": "b2a30e1b",
   "metadata": {},
   "outputs": [],
   "source": [
    "# set operations"
   ]
  },
  {
   "cell_type": "code",
   "execution_count": 23,
   "id": "2b46d454",
   "metadata": {},
   "outputs": [
    {
     "data": {
      "text/plain": [
       "{1, 2, 3, 4, 5, 6, 8}"
      ]
     },
     "execution_count": 23,
     "metadata": {},
     "output_type": "execute_result"
    }
   ],
   "source": [
    "# union AUB\n",
    "s1 = {1,2,3,4,5}\n",
    "s2 = {2,4,6,8}\n",
    "s1.union(s2)\n",
    "# you can write (S1 | S2)"
   ]
  },
  {
   "cell_type": "code",
   "execution_count": 24,
   "id": "6c1b0c9f",
   "metadata": {},
   "outputs": [
    {
     "data": {
      "text/plain": [
       "{2, 4}"
      ]
     },
     "execution_count": 24,
     "metadata": {},
     "output_type": "execute_result"
    }
   ],
   "source": [
    "# Intersection AnB \n",
    "s1 = {1,2,3,4,5}\n",
    "s2 = {2,4,6,8}\n",
    "s1.intersection(s2)\n",
    "# you can write (S1 & S2)"
   ]
  },
  {
   "cell_type": "code",
   "execution_count": 25,
   "id": "68e882ec",
   "metadata": {},
   "outputs": [
    {
     "data": {
      "text/plain": [
       "{1, 3, 5}"
      ]
     },
     "execution_count": 25,
     "metadata": {},
     "output_type": "execute_result"
    }
   ],
   "source": [
    "# difference A-B != B-A\n",
    "s1 = {1,2,3,4,5}\n",
    "s2 = {2,4,6,8}\n",
    "s1.difference(s2)\n",
    "# you can write (S1 - S2)"
   ]
  },
  {
   "cell_type": "code",
   "execution_count": 26,
   "id": "6a63db89",
   "metadata": {},
   "outputs": [
    {
     "data": {
      "text/plain": [
       "{1, 3, 5, 6, 8}"
      ]
     },
     "execution_count": 26,
     "metadata": {},
     "output_type": "execute_result"
    }
   ],
   "source": [
    "# Symmetric difference (common k ilawah saare)\n",
    "s1 = {1,2,3,4,5}\n",
    "s2 = {2,4,6,8}\n",
    "s1.symmetric_difference(s2)\n",
    "# you can write (S1 ^ S2)"
   ]
  },
  {
   "cell_type": "code",
   "execution_count": 27,
   "id": "141b51a6",
   "metadata": {},
   "outputs": [
    {
     "name": "stdout",
     "output_type": "stream",
     "text": [
      "False\n",
      "False\n",
      "False\n"
     ]
    }
   ],
   "source": [
    "# disjoint (no item is common)\n",
    "print(s1.isdisjoint(s2))\n",
    "# subset\n",
    "print(s1.issubset(s2))\n",
    "# superset\n",
    "print(s1.issuperset(s2))"
   ]
  },
  {
   "cell_type": "code",
   "execution_count": 28,
   "id": "5cd713b5",
   "metadata": {},
   "outputs": [],
   "source": [
    "# create an immutable set \n",
    "fs = frozenset({1,2,3,4})"
   ]
  },
  {
   "cell_type": "code",
   "execution_count": null,
   "id": "40c7a978",
   "metadata": {},
   "outputs": [],
   "source": []
  }
 ],
 "metadata": {
  "kernelspec": {
   "display_name": "Python 3 (ipykernel)",
   "language": "python",
   "name": "python3"
  },
  "language_info": {
   "codemirror_mode": {
    "name": "ipython",
    "version": 3
   },
   "file_extension": ".py",
   "mimetype": "text/x-python",
   "name": "python",
   "nbconvert_exporter": "python",
   "pygments_lexer": "ipython3",
   "version": "3.10.6"
  }
 },
 "nbformat": 4,
 "nbformat_minor": 5
}
