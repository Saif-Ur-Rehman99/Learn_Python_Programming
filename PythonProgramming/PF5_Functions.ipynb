{
 "cells": [
  {
   "cell_type": "code",
   "execution_count": 4,
   "id": "3a3dcf2a",
   "metadata": {},
   "outputs": [],
   "source": [
    "# Parameters are used when we creates function\n",
    "# Arguments are used when we calls a function"
   ]
  },
  {
   "cell_type": "code",
   "execution_count": 2,
   "id": "c2adb9f4",
   "metadata": {},
   "outputs": [
    {
     "name": "stdout",
     "output_type": "stream",
     "text": [
      "Types of arguments\n",
      "\n",
      "1. Default Arguments\n",
      "2. Positional Arguments\n",
      "3. Keyword Arguments\n",
      "\n"
     ]
    }
   ],
   "source": [
    "print(\"\"\"Types of arguments\n",
    "\n",
    "1. Default Arguments\n",
    "2. Positional Arguments\n",
    "3. Keyword Arguments\n",
    "\"\"\")"
   ]
  },
  {
   "cell_type": "code",
   "execution_count": 3,
   "id": "9ee72856",
   "metadata": {},
   "outputs": [
    {
     "name": "stdout",
     "output_type": "stream",
     "text": [
      "2\n"
     ]
    }
   ],
   "source": [
    "# default parametres are used run the code error free by user-end\n",
    "def exp(a=1,b=1):\n",
    "    return a ** b\n",
    "\n",
    "print(exp(2))"
   ]
  },
  {
   "cell_type": "code",
   "execution_count": 5,
   "id": "4c785e4e",
   "metadata": {},
   "outputs": [],
   "source": [
    "# Position argument term refers to the order of arguments when calling a function"
   ]
  },
  {
   "cell_type": "code",
   "execution_count": 7,
   "id": "1326ec1d",
   "metadata": {},
   "outputs": [
    {
     "name": "stdout",
     "output_type": "stream",
     "text": [
      "8\n"
     ]
    }
   ],
   "source": [
    "# Keyword argument (used when function has large no of arguments)\n",
    "print(exp(b=3,a=2))"
   ]
  },
  {
   "cell_type": "code",
   "execution_count": 8,
   "id": "ca83f971",
   "metadata": {},
   "outputs": [],
   "source": [
    "# *args and **kargs"
   ]
  },
  {
   "cell_type": "code",
   "execution_count": 10,
   "id": "30ac7d90",
   "metadata": {},
   "outputs": [
    {
     "name": "stdout",
     "output_type": "stream",
     "text": [
      "26\n"
     ]
    }
   ],
   "source": [
    "def sum_of_digits(*args):\n",
    "    \n",
    "    # *args has tuple (7,3,8,2,6)\n",
    "    sod = 0\n",
    "    \n",
    "    for i in args: # tuple\n",
    "        sod = sod + i\n",
    "    return sod\n",
    "\n",
    "print(sum_of_digits(7,3,8,2,6))"
   ]
  },
  {
   "cell_type": "code",
   "execution_count": 15,
   "id": "0ead0e3e",
   "metadata": {},
   "outputs": [
    {
     "name": "stdout",
     "output_type": "stream",
     "text": [
      "type(object) -> the object's type\n",
      "type(name, bases, dict, **kwds) -> a new type\n",
      "print(value, ..., sep=' ', end='\\n', file=sys.stdout, flush=False)\n",
      "\n",
      "Prints the values to a stream, or to sys.stdout by default.\n",
      "Optional keyword arguments:\n",
      "file:  a file-like object (stream); defaults to the current sys.stdout.\n",
      "sep:   string inserted between values, default a space.\n",
      "end:   string appended after the last value, default a newline.\n",
      "flush: whether to forcibly flush the stream.\n"
     ]
    }
   ],
   "source": [
    "print(type.__doc__)\n",
    "print(print.__doc__)"
   ]
  },
  {
   "cell_type": "code",
   "execution_count": 23,
   "id": "57722e85",
   "metadata": {},
   "outputs": [
    {
     "name": "stdout",
     "output_type": "stream",
     "text": [
      "india > Dehli\n",
      "pakistan > Islamabad\n",
      "usa > Washington DC\n",
      "None\n"
     ]
    }
   ],
   "source": [
    "def display(**kwargs):\n",
    "    # kwargs convert arguments into dictionary\n",
    "    for (key,value) in kwargs.items():\n",
    "        print(key, '>', value)\n",
    "\n",
    "a = display(india='Dehli',pakistan='Islamabad',usa='Washington DC')\n",
    "print(a)"
   ]
  },
  {
   "cell_type": "code",
   "execution_count": 21,
   "id": "0a72ff5a",
   "metadata": {},
   "outputs": [],
   "source": [
    "# order of arguments\n",
    "\n",
    "# normal -> *agrs -> **kwargs"
   ]
  },
  {
   "cell_type": "code",
   "execution_count": 22,
   "id": "981a4643",
   "metadata": {},
   "outputs": [],
   "source": [
    "# How functions are executed in the memory (create separate space in memory)\n",
    "# life span of function (calling hone se lekr value return hone tak, then memory se remove)"
   ]
  },
  {
   "cell_type": "code",
   "execution_count": 24,
   "id": "ca1db9fd",
   "metadata": {},
   "outputs": [],
   "source": [
    "# Lambda function is used in Higher order functions\n",
    "    # That recieves function as input\n",
    "    # That returns function as output"
   ]
  },
  {
   "cell_type": "code",
   "execution_count": 26,
   "id": "17038db5",
   "metadata": {},
   "outputs": [
    {
     "name": "stdout",
     "output_type": "stream",
     "text": [
      "6\n"
     ]
    }
   ],
   "source": [
    "a = lambda x,y: x+y\n",
    "print(a(2,4))"
   ]
  },
  {
   "cell_type": "code",
   "execution_count": 28,
   "id": "d35f7b3d",
   "metadata": {},
   "outputs": [
    {
     "name": "stdout",
     "output_type": "stream",
     "text": [
      "[1, 8, 27, 64, 125]\n"
     ]
    }
   ],
   "source": [
    "def cube(a=1,b=1):\n",
    "    return a ** 3\n",
    "\n",
    "def transform(f, lst):\n",
    "    output = []\n",
    "    for i in lst:\n",
    "        output.append(f(i))\n",
    "    \n",
    "    return output\n",
    "\n",
    "lst = [1,2,3,4,5]\n",
    "print(transform(cube,lst))"
   ]
  },
  {
   "cell_type": "code",
   "execution_count": 29,
   "id": "101e9bc7",
   "metadata": {},
   "outputs": [
    {
     "name": "stdout",
     "output_type": "stream",
     "text": [
      "[1, 8, 27, 64, 125]\n"
     ]
    }
   ],
   "source": [
    "def transform(f, lst):\n",
    "    output = []\n",
    "    for i in lst:\n",
    "        output.append(f(i))\n",
    "    \n",
    "    return output\n",
    "\n",
    "lst = [1,2,3,4,5]\n",
    "print(transform(lambda x: x**3,lst))"
   ]
  },
  {
   "cell_type": "code",
   "execution_count": 30,
   "id": "ca6addfa",
   "metadata": {},
   "outputs": [
    {
     "data": {
      "text/plain": [
       "[1, 4, 9, 16, 25]"
      ]
     },
     "execution_count": 30,
     "metadata": {},
     "output_type": "execute_result"
    }
   ],
   "source": [
    "# map function (expect lambda or list)\n",
    "\n",
    "list(map(lambda x:x**2, [1,2,3,4,5]))"
   ]
  },
  {
   "cell_type": "code",
   "execution_count": 31,
   "id": "62da6868",
   "metadata": {},
   "outputs": [
    {
     "data": {
      "text/plain": [
       "['odd', 'even', 'odd', 'even', 'odd']"
      ]
     },
     "execution_count": 31,
     "metadata": {},
     "output_type": "execute_result"
    }
   ],
   "source": [
    "# labeling the list (even or odd)\n",
    "list(map(lambda x: 'even' if x % 2 == 0 else 'odd', [1,2,3,4,5]))"
   ]
  },
  {
   "cell_type": "code",
   "execution_count": 33,
   "id": "420a6bd2",
   "metadata": {},
   "outputs": [
    {
     "data": {
      "text/plain": [
       "['Sami', 'Saif', 'Taha']"
      ]
     },
     "execution_count": 33,
     "metadata": {},
     "output_type": "execute_result"
    }
   ],
   "source": [
    "# fetch names of a user from a list that contain records in the form of dictionary\n",
    "\n",
    "user = [\n",
    "    {\n",
    "        'name': 'Sami',\n",
    "        'age': 25,\n",
    "        'city': 'Karachi'\n",
    "    },\n",
    "    {\n",
    "        'name': 'Saif',\n",
    "        'age': 22,\n",
    "        'city': 'Los Angeles'\n",
    "    },\n",
    "    {\n",
    "        'name': 'Taha',\n",
    "        'age': 24,\n",
    "        'city': 'Sydney'\n",
    "    }\n",
    "]\n",
    "list(map(lambda users: users['name'], user))"
   ]
  },
  {
   "cell_type": "code",
   "execution_count": 34,
   "id": "4b6c2be0",
   "metadata": {},
   "outputs": [
    {
     "data": {
      "text/plain": [
       "[8, 6, 7]"
      ]
     },
     "execution_count": 34,
     "metadata": {},
     "output_type": "execute_result"
    }
   ],
   "source": [
    "# Filter\n",
    "\n",
    "lst2 = [3,4,8,6,7]\n",
    "\n",
    "list(filter(lambda x:x>5,lst2))"
   ]
  },
  {
   "cell_type": "code",
   "execution_count": 35,
   "id": "e258d1b5",
   "metadata": {},
   "outputs": [
    {
     "data": {
      "text/plain": [
       "['apple', 'orange']"
      ]
     },
     "execution_count": 35,
     "metadata": {},
     "output_type": "execute_result"
    }
   ],
   "source": [
    "lst3 = ['apple', 'cherry', 'chickoo', 'orange']\n",
    "\n",
    "list(filter(lambda x: 'a' in x, lst3))"
   ]
  },
  {
   "cell_type": "code",
   "execution_count": 36,
   "id": "3485eee3",
   "metadata": {},
   "outputs": [
    {
     "data": {
      "text/plain": [
       "['cherry', 'chickoo']"
      ]
     },
     "execution_count": 36,
     "metadata": {},
     "output_type": "execute_result"
    }
   ],
   "source": [
    "lst3 = ['apple', 'cherry', 'chickoo', 'orange']\n",
    "\n",
    "list(filter(lambda x: x.startswith('c'), lst3))"
   ]
  },
  {
   "cell_type": "code",
   "execution_count": 38,
   "id": "cb4cf625",
   "metadata": {},
   "outputs": [
    {
     "data": {
      "text/plain": [
       "15"
      ]
     },
     "execution_count": 38,
     "metadata": {},
     "output_type": "execute_result"
    }
   ],
   "source": [
    "# Reduce\n",
    "\n",
    "import functools\n",
    "functools.reduce(lambda x,y:x+y, [1,2,3,4,5])\n",
    "\n",
    "# working\n",
    "#  1,2 : 1 + 2 = 3\n",
    "#  3,3 : 3 + 3 = 6\n",
    "#  6,4 : 10 + 5 = 15"
   ]
  },
  {
   "cell_type": "code",
   "execution_count": 40,
   "id": "60c8b2fd",
   "metadata": {},
   "outputs": [
    {
     "data": {
      "text/plain": [
       "23"
      ]
     },
     "execution_count": 40,
     "metadata": {},
     "output_type": "execute_result"
    }
   ],
   "source": [
    "# find maximum\n",
    "functools.reduce(lambda x,y : x if x>y else y, [12, 4, 13, 23])"
   ]
  },
  {
   "cell_type": "code",
   "execution_count": null,
   "id": "df86ca8e",
   "metadata": {},
   "outputs": [],
   "source": []
  }
 ],
 "metadata": {
  "kernelspec": {
   "display_name": "Python 3 (ipykernel)",
   "language": "python",
   "name": "python3"
  },
  "language_info": {
   "codemirror_mode": {
    "name": "ipython",
    "version": 3
   },
   "file_extension": ".py",
   "mimetype": "text/x-python",
   "name": "python",
   "nbconvert_exporter": "python",
   "pygments_lexer": "ipython3",
   "version": "3.10.6"
  }
 },
 "nbformat": 4,
 "nbformat_minor": 5
}
